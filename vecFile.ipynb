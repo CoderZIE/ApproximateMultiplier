{
  "nbformat": 4,
  "nbformat_minor": 0,
  "metadata": {
    "colab": {
      "provenance": [],
      "authorship_tag": "ABX9TyO3xxomY9iuB/ATAdU6K8Es",
      "include_colab_link": true
    },
    "kernelspec": {
      "name": "python3",
      "display_name": "Python 3"
    },
    "language_info": {
      "name": "python"
    }
  },
  "cells": [
    {
      "cell_type": "markdown",
      "metadata": {
        "id": "view-in-github",
        "colab_type": "text"
      },
      "source": [
        "<a href=\"https://colab.research.google.com/github/CoderZIE/ApproximateMultiplier/blob/main/vecFile.ipynb\" target=\"_parent\"><img src=\"https://colab.research.google.com/assets/colab-badge.svg\" alt=\"Open In Colab\"/></a>"
      ]
    },
    {
      "cell_type": "code",
      "source": [
        "def decimal_to_binary_and_twos_complement(decimal_num, num_bits):\n",
        "    # Check if the number is negative\n",
        "    is_negative = decimal_num < 0\n",
        "\n",
        "    # Calculate the binary representation of the absolute value\n",
        "    binary_repr = bin(abs(decimal_num))[2:].zfill(num_bits)\n",
        "\n",
        "    # If the number is negative, calculate its two's complement\n",
        "    if is_negative:\n",
        "        # Invert the bits (change 0s to 1s and 1s to 0s)\n",
        "        inverted = ''.join('1' if bit == '0' else '0' for bit in binary_repr)\n",
        "\n",
        "        # Add 1 to the inverted value to get the two's complement\n",
        "        carry = 1\n",
        "        twos_complement = ''\n",
        "        for bit in reversed(inverted):\n",
        "            if bit == '0' and carry == 1:\n",
        "                twos_complement = '1' + twos_complement\n",
        "                carry = 0\n",
        "            elif bit == '1' and carry == 1:\n",
        "                twos_complement = '0' + twos_complement\n",
        "            else:\n",
        "                twos_complement = bit + twos_complement\n",
        "\n",
        "        return twos_complement\n",
        "    else:\n",
        "        # If the number is positive, no need to calculate two's complement\n",
        "        return binary_repr\n",
        "\n",
        "a=2\n",
        "b=3\n",
        "c=9\n",
        "d=9\n",
        "e=6\n",
        "f=7\n",
        "g=120\n",
        "h=9\n",
        "sum=0\n",
        "\n",
        "a = decimal_to_binary_and_twos_complement(a, 16)\n",
        "b = decimal_to_binary_and_twos_complement(b, 16)\n",
        "c = decimal_to_binary_and_twos_complement(c, 16)\n",
        "d = decimal_to_binary_and_twos_complement(d, 16)\n",
        "e = decimal_to_binary_and_twos_complement(e, 16)\n",
        "f = decimal_to_binary_and_twos_complement(f, 16)\n",
        "g = decimal_to_binary_and_twos_complement(g, 16)\n",
        "h = decimal_to_binary_and_twos_complement(h, 16)\n",
        "s = decimal_to_binary_and_twos_complement(sum, 20)\n",
        "\n",
        "\n",
        "binary_array = [a, b, c, d, e, f, g, h, s]\n",
        "\n"
      ],
      "metadata": {
        "id": "F-X2X0vDpxHV"
      },
      "execution_count": null,
      "outputs": []
    },
    {
      "cell_type": "code",
      "execution_count": null,
      "metadata": {
        "colab": {
          "base_uri": "https://localhost:8080/"
        },
        "id": "0f47-Lc7H6VA",
        "outputId": "eb3cb265-dbba-4d07-ea31-6e1a34f9f77e"
      },
      "outputs": [
        {
          "output_type": "stream",
          "name": "stdout",
          "text": [
            "[[0, 0, 0, 0, 0, 0, 0, 0, 0, 0, 0, 0, 0, 0, 0, 0, 0, 0, 0, 0, 0, 0, 0, 0, 0, 0, 0, 0, 0, 0, 0, 0, 0, 0, 0, 0, 0, 0, 0, 0, 0, 0, 0, 0, 0, 0, 0, 0, 0, 0, 0, 0, 0, 0, 0, 0, 0, 0, 0, 0, 0, 0, 0, 0, 0, 0, 0, 0, 0, 0, 0, 0, 0, 0, 0, 0, 0, 0, 0, 0, 0, 0, 0, 0, 0, 0, 0, 0, 0, 0, 0, 0, 0, 0, 0, 0, 0, 0, 0, 0, 0, 0, 0, 0, 0, 0, 0, 0, 0, 0, 0, 0, 0, 0, 0, 0, 0, 0, 0, 0, 0, 0, 0, 0, 0, 0, 0, 0, 0, 0, 0, 0, 0, 0, 0, 0, 0, 0, 0, 0, 0, 0, 0, 0, 0, 0, 0, 0, 0, 0, 0, 0, 0, 0, 0, 0, 0], [0, 0, 0, 0, 0, 0, 0, 0, 0, 0, 0, 0, 0, 0, 1, 0, 0, 0, 0, 0, 0, 0, 0, 0, 0, 0, 0, 0, 0, 0, 1, 1, 0, 0, 0, 0, 0, 0, 0, 0, 0, 0, 0, 0, 1, 0, 0, 1, 0, 0, 0, 0, 0, 0, 0, 0, 0, 0, 0, 0, 1, 0, 0, 1, 0, 0, 0, 0, 0, 0, 0, 0, 0, 0, 0, 0, 0, 1, 1, 0, 0, 0, 0, 0, 0, 0, 0, 0, 0, 0, 0, 0, 0, 1, 1, 1, 0, 0, 0, 0, 0, 0, 0, 0, 0, 1, 1, 1, 1, 0, 0, 0, 0, 0, 0, 0, 0, 0, 0, 0, 0, 0, 0, 0, 1, 0, 0, 1, 0, 0, 0, 0, 0, 0, 0, 0, 0, 0, 0, 0, 0, 0, 0, 0, 0, 0, 0, 0, 0, 0, 0, 0, 0, 0, 0, 0, 0]]\n",
            "Vector file 'test.txt' created successfully.\n"
          ]
        }
      ],
      "source": [
        "num_signals = 157\n",
        "inputs = 137\n",
        "outputs = 20\n",
        "\n",
        "def write_vec_file(file_path, signal_changes):\n",
        "    with open(file_path, 'w') as file:\n",
        "        file.write(\"output_wf 1\\n\")\n",
        "        radix_line = \"radix \" + \" \".join(\"1\" for _ in range(num_signals)) + \"\\n\"\n",
        "        file.write(radix_line)  # Use decimal radix with 1-bit resolution\n",
        "        io_line = \"io \" + \" \".join(\"i\" for _ in range(inputs)) + \" \".join(\"o\" for _ in range(outputs)) + \"\\n\"\n",
        "        file.write(io_line)  # Declare inputs and outputs\n",
        "        file.write(\"vname gnd \" + \" \".join(f\"A{18-i}\" for i in range(18)) + \" \" +\n",
        "           \" \".join(f\"B{18-i}\" for i in range(18)) + \" \" +\n",
        "           \" \".join(f\"C{18-i}\" for i in range(18)) + \" \" +\n",
        "           \" \".join(f\"D{18-i}\" for i in range(18)) + \" \" +\n",
        "           \" \".join(f\"E{18-i}\" for i in range(18)) + \" \" +\n",
        "           \" \".join(f\"F{18-i}\" for i in range(18)) + \" \" +\n",
        "           \" \".join(f\"G{18-i}\" for i in range(18)) + \" \" +\n",
        "           \" \".join(f\"H{18-i}\" for i in range(18)) + \" \" +\n",
        "           \" \".join(f\"SF{i+1}\" for i in range(20)) + \" \\n\")\n",
        "        file.write(\"tunit 3ns\\n\")\n",
        "        file.write(\"chk_window -19 20 1 period=20\\n\")\n",
        "        file.write(\"period 2\\n\")\n",
        "        file.write(\"trise 0.05\\n\")\n",
        "        file.write(\"tfall 0.05\\n\")\n",
        "        file.write(\"vih 1.2\\n\")\n",
        "        file.write(\"vil 0.0\\n\")\n",
        "\n",
        "        for time, *values in signal_changes:\n",
        "            file.write(f\"{time} {' '.join(map(str, values))}\\n\")\n",
        "\n",
        "if __name__ == \"__main__\":\n",
        "    # Example signal changes (time, A0, A1, ..., A15, B0, B1, ..., B15, sum1, sum2, ..., sum16, Cout)\n",
        "    signal_changes= [[0] * 157 for _ in range(2)]\n",
        "\n",
        "    count = 0\n",
        "    for binary_value in binary_array:\n",
        "      for binary in binary_value:\n",
        "        signal_changes[1][count] = int(binary,2)\n",
        "        count=count+1\n",
        "\n",
        "    print(signal_changes)\n",
        "\n",
        "    vec_file_path = \"test.txt\"\n",
        "    write_vec_file(vec_file_path, signal_changes)\n",
        "    print(f\"Vector file '{vec_file_path}' created successfully.\")\n",
        "\n"
      ]
    }
  ]
}